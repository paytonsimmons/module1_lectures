{
  "cells": [
    {
      "cell_type": "markdown",
      "metadata": {
        "id": "CwEeENdPkNIX"
      },
      "source": [
        "## Lab 1 - Compound Interest Functions\n",
        "\n",
        "Below you will find a table of important formulae related to compound interest.  \n",
        "\n",
        "<img src=\"https://www.dummies.com/wp-content/uploads/251689.image0.jpg\" alt=\"image0.jpg\" width=\"400\" height=\"319\">\n",
        "\n",
        "In this lab, you will create functions for each of these using (and documenting) the following workflow.\n",
        "\n",
        "1. Work out the correct answer for a few examples. *Hint* Search for e.g. \"worked out compound interest examples\" on the web.\n",
        "2. Write a `lambda` function and test this function on your test cases.\n",
        "3. Convert the `lambda` function to a `def` statement with an informative doc string that follows the [Google formating rules](https://google.github.io/styleguide/pyguide.html#383-functions-and-methods).\n",
        "4. Write an automated test function (using your previous examples) that will test your `def` statement function each time the code is executed."
      ]
    },
    {
      "cell_type": "markdown",
      "metadata": {
        "id": "W-P83ShHkNIX"
      },
      "source": [
        "#### Problem 1 -- Apply the process to create a simple interest functions."
      ]
    },
    {
      "cell_type": "code",
      "execution_count": 37,
      "metadata": {
        "id": "uMP4UbgAkNIY",
        "outputId": "23927de0-3050-4d5c-e547-505fcccfc3a1",
        "colab": {
          "base_uri": "https://localhost:8080/"
        }
      },
      "outputs": [
        {
          "output_type": "execute_result",
          "data": {
            "text/plain": [
              "1500.0"
            ]
          },
          "metadata": {},
          "execution_count": 37
        }
      ],
      "source": [
        "Rate = 0.30\n",
        "Sample_Interest = lambda p, Rate, t: p*Rate*t\n",
        "Sample_Interest(1000, 0.30, 5)"
      ]
    },
    {
      "cell_type": "code",
      "source": [
        "def Sample_Interest(p,Rate,t):\n",
        "#This is a test of the function for Sample Interest  \n",
        "  output = p*Rate*t\n",
        "  return output\n",
        "#Here we test the function\n",
        "def Test_Sample_Interest():\n",
        "  assert Sample_Interest(1000,Rate,5) == 1500.0\n",
        "  assert Sample_Interest(1000,Rate,10) == 3000.0\n",
        "  assert Sample_Interest(1000,Rate,15) == 4500.0\n",
        "Test_Sample_Interest()"
      ],
      "metadata": {
        "id": "wOqGv2zutvv8"
      },
      "execution_count": 48,
      "outputs": []
    },
    {
      "cell_type": "markdown",
      "metadata": {
        "id": "b4nRLws9kNIY"
      },
      "source": [
        "#### Problem 2 -- Apply the process to create a compound interest functions."
      ]
    },
    {
      "cell_type": "code",
      "execution_count": 71,
      "metadata": {
        "id": "d-e4kzd4kNIY",
        "outputId": "dee476eb-e457-482a-855e-31b319f86467",
        "colab": {
          "base_uri": "https://localhost:8080/"
        }
      },
      "outputs": [
        {
          "output_type": "execute_result",
          "data": {
            "text/plain": [
              "339302.0835144872"
            ]
          },
          "metadata": {},
          "execution_count": 71
        }
      ],
      "source": [
        "Rate = 0.30\n",
        "Compound_Interest = lambda p, Rate, n, t: p*pow(1+Rate/n,n*t)\n",
        "Compound_Interest(1000, Rate, 5, 20)"
      ]
    },
    {
      "cell_type": "code",
      "source": [
        "def Compound_Interest(p,Rate,n,t):\n",
        "#This is a test of the funciton for Compound Interest  \n",
        "  output = p*pow(1+Rate/n,n*t)\n",
        "  return output\n",
        "#Here we test the function\n",
        "def Test_Compound_Interest():\n",
        "  assert Compound_Interest(1000, Rate, 5, 20) == 339302.0835144872\n",
        "Test_Compound_Interest()"
      ],
      "metadata": {
        "id": "naYQoVnfwlpL"
      },
      "execution_count": 72,
      "outputs": []
    },
    {
      "cell_type": "markdown",
      "metadata": {
        "id": "nRiwEbmckNIZ"
      },
      "source": [
        "#### Problem 3 -- Apply the process to create a amortized loan payment function."
      ]
    },
    {
      "cell_type": "code",
      "execution_count": 74,
      "metadata": {
        "id": "3CJji65ZkNIZ",
        "outputId": "adf2290c-3bee-4670-e278-8c27afbd9785",
        "colab": {
          "base_uri": "https://localhost:8080/"
        }
      },
      "outputs": [
        {
          "output_type": "execute_result",
          "data": {
            "text/plain": [
              "0.34979807744177904"
            ]
          },
          "metadata": {},
          "execution_count": 74
        }
      ],
      "source": [
        "Rate = 0.30\n",
        "Effective_Rate = lambda Rate, n: pow(1+Rate/n,n)-1\n",
        "Effective_Rate(Rate, 1000)"
      ]
    },
    {
      "cell_type": "code",
      "source": [
        "def Effective_Rate(Rate,n):\n",
        "  #This is a test of the function for effective rates\n",
        "  output = pow(1+Rate/n,n)-1\n",
        "  return output\n",
        "  #Here we test the function\n",
        "def Test_Effective_Rate():\n",
        "  assert Effective_Rate(Rate, 1000) == 0.34979807744177904\n",
        "Test_Effective_Rate()"
      ],
      "metadata": {
        "id": "_u1WkIuV1zmC"
      },
      "execution_count": 75,
      "outputs": []
    },
    {
      "cell_type": "markdown",
      "metadata": {
        "id": "aUQNLQWwkNIZ"
      },
      "source": [
        "#### Problem 4 -- Apply the process to create a remaining balance function"
      ]
    },
    {
      "cell_type": "code",
      "execution_count": 76,
      "metadata": {
        "id": "3XrhHfdikNIZ",
        "outputId": "fef92a57-a4c9-498c-87e8-8b0dc5e4bc45",
        "colab": {
          "base_uri": "https://localhost:8080/"
        }
      },
      "outputs": [
        {
          "output_type": "execute_result",
          "data": {
            "text/plain": [
              "410.5815483628401"
            ]
          },
          "metadata": {},
          "execution_count": 76
        }
      ],
      "source": [
        "Rate = 0.30\n",
        "Amortized_Loan_Payment = lambda p, Rate, n: (p*Rate)/(1 - pow(1+Rate,-n))\n",
        "Amortized_Loan_Payment(1000, Rate, 5)"
      ]
    },
    {
      "cell_type": "code",
      "source": [
        "def Amortized_Loan_Payment(p, Rate, n):\n",
        "  #This is a test of the function for amortized loan payments\n",
        "  output = (p*Rate)/(1 - pow(1+Rate,-n))\n",
        "  return output\n",
        "  #Here we test the function\n",
        "def Test_Amortized_Loan_Payment():\n",
        "  assert Amortized_Loan_Payment(1000, Rate, 5) == 410.5815483628401\n",
        "Test_Amortized_Loan_Payment()"
      ],
      "metadata": {
        "id": "p9YH5qP53ewW"
      },
      "execution_count": 77,
      "outputs": []
    },
    {
      "cell_type": "code",
      "source": [
        "Rate = 0.30\n",
        "Remaining_Balance = lambda p, Rate, n, x: p*(1 - pow(1+Rate,-(n-x))/Rate)\n",
        "Remaining_Balance(1000, Rate, 25, 5)"
      ],
      "metadata": {
        "id": "tvpBw79w3eq6",
        "outputId": "cafa9190-9d74-4a58-8188-18c14690bb25",
        "colab": {
          "base_uri": "https://localhost:8080/"
        }
      },
      "execution_count": 78,
      "outputs": [
        {
          "output_type": "execute_result",
          "data": {
            "text/plain": [
              "982.4607225100895"
            ]
          },
          "metadata": {},
          "execution_count": 78
        }
      ]
    },
    {
      "cell_type": "code",
      "source": [
        "def Remaining_Balance(p, Rate, n, x):\n",
        "  #\n",
        "  output = p*(1 - pow(1+Rate,-(n-x))/Rate)\n",
        "  return output#\n",
        "def Test_Remaining_Balance():\n",
        "  assert Remaining_Balance(1000, Rate, 25, 5) == 982.4607225100895\n",
        "Test_Remaining_Balance()"
      ],
      "metadata": {
        "id": "d0_mzP843el-"
      },
      "execution_count": 79,
      "outputs": []
    }
  ],
  "metadata": {
    "kernelspec": {
      "display_name": "Python 3",
      "language": "python",
      "name": "python3"
    },
    "language_info": {
      "codemirror_mode": {
        "name": "ipython",
        "version": 3
      },
      "file_extension": ".py",
      "mimetype": "text/x-python",
      "name": "python",
      "nbconvert_exporter": "python",
      "pygments_lexer": "ipython3",
      "version": "3.7.2"
    },
    "colab": {
      "provenance": []
    }
  },
  "nbformat": 4,
  "nbformat_minor": 0
}