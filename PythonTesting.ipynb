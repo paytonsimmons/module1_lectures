{
  "nbformat": 4,
  "nbformat_minor": 0,
  "metadata": {
    "colab": {
      "provenance": [],
      "authorship_tag": "ABX9TyPfqNMPVGhnZKNKypwgq2Rt",
      "include_colab_link": true
    },
    "kernelspec": {
      "name": "python3",
      "display_name": "Python 3"
    },
    "language_info": {
      "name": "python"
    }
  },
  "cells": [
    {
      "cell_type": "markdown",
      "metadata": {
        "id": "view-in-github",
        "colab_type": "text"
      },
      "source": [
        "<a href=\"https://colab.research.google.com/github/paytonsimmons/module1_lectures/blob/main/PythonTesting.ipynb\" target=\"_parent\"><img src=\"https://colab.research.google.com/assets/colab-badge.svg\" alt=\"Open In Colab\"/></a>"
      ]
    },
    {
      "cell_type": "code",
      "execution_count": null,
      "metadata": {
        "id": "50CeK1fIzDJ2"
      },
      "outputs": [],
      "source": [
        "help(random)"
      ]
    },
    {
      "cell_type": "code",
      "source": [
        "import random\n",
        "a = random.random() # Random float:  0.0 <= x < 1.0\n",
        "b = random.random() # Random float:  0.0 <= x < 1.0\n",
        "print(random.uniform(a, b)) # Random float:  2.5 <= x < 10.0\n",
        "print(random.choice(['win', 'lose', 'draw'])) # Single random element from a sequence\n",
        "print(random.randrange(0, 101, 2)) # Even integer from 0 to 100 inclusive"
      ],
      "metadata": {
        "colab": {
          "base_uri": "https://localhost:8080/"
        },
        "id": "VhKzPT9DzGOA",
        "outputId": "5a4ec0aa-041a-427c-cbd1-012881341d56"
      },
      "execution_count": 2,
      "outputs": [
        {
          "output_type": "stream",
          "name": "stdout",
          "text": [
            "0.4939579124152448\n",
            "draw\n",
            "82\n"
          ]
        }
      ]
    },
    {
      "cell_type": "code",
      "source": [
        "#Example of statistical bootstrapping using resampling with replacement to\n",
        "#estimate a confidence interval for the mean of a sample of size five:\n",
        "# http://statistics.about.com/od/Applications/a/Example-Of-Bootstrapping.htm\n",
        "from statistics import mean\n",
        "from random import choices\n",
        "\n",
        "data = 1, 2, 4, 4, 10\n",
        "means = sorted(mean(choices(data, k=5)) for i in range(20))\n",
        "print(f'The sample mean of {mean(data):.1f} has a 90% confidence '\n",
        "      f'interval from {means[1]:.1f} to {means[-2]:.1f}')"
      ],
      "metadata": {
        "colab": {
          "base_uri": "https://localhost:8080/"
        },
        "id": "P4Kr0CJbzGLN",
        "outputId": "c51a51a3-45b6-414a-f90c-645582c4bfdb"
      },
      "execution_count": 4,
      "outputs": [
        {
          "output_type": "stream",
          "name": "stdout",
          "text": [
            "The sample mean of 4.2 has a 90% confidence interval from 2.0 to 6.0\n"
          ]
        }
      ]
    },
    {
      "cell_type": "code",
      "source": [
        "#https://en.wikipedia.org/wiki/Resampling_(statistics)#Permutation_tests\n",
        "#https://en.wikipedia.org/wiki/P-value\n",
        "#Example of a resampling permutation test to determine the statistical \n",
        "#significance or p-value of an observed difference between \n",
        "#the effects of a drug versus a placebo:\n",
        "# Example from \"Statistics is Easy\" by Dennis Shasha and Manda Wilson\n",
        "from statistics import mean\n",
        "from random import shuffle\n",
        "\n",
        "drug = [54, 73, 53, 70, 73, 68, 52, 65, 65]\n",
        "placebo = [54, 51, 58, 44, 55, 52, 42, 47, 58, 46]\n",
        "observed_diff = mean(drug) - mean(placebo)\n",
        "\n",
        "n = 10000\n",
        "count = 0\n",
        "combined = drug + placebo\n",
        "for i in range(n):\n",
        "    shuffle(combined)\n",
        "    new_diff = mean(combined[:len(drug)]) - mean(combined[len(drug):])\n",
        "    count += (new_diff >= observed_diff)\n",
        "\n",
        "print(f'{n} label reshufflings produced only {count} instances with a difference')\n",
        "print(f'at least as extreme as the observed difference of {observed_diff:.1f}.')\n",
        "print(f'The one-sided p-value of {count / n:.4f} leads us to reject the null')\n",
        "print(f'hypothesis that there is no difference between the drug and the placebo.')"
      ],
      "metadata": {
        "colab": {
          "base_uri": "https://localhost:8080/"
        },
        "id": "kWs3_F9rzGIY",
        "outputId": "490b0d25-e962-481d-c41e-f96332c56f90"
      },
      "execution_count": 5,
      "outputs": [
        {
          "output_type": "stream",
          "name": "stdout",
          "text": [
            "10000 label reshufflings produced only 9 instances with a difference\n",
            "at least as extreme as the observed difference of 13.0.\n",
            "The one-sided p-value of 0.0009 leads us to reject the null\n",
            "hypothesis that there is no difference between the drug and the placebo.\n"
          ]
        }
      ]
    },
    {
      "cell_type": "code",
      "source": [
        "#Simulation of arrival times and service deliveries in a single server queue:\n",
        "from random import expovariate, gauss\n",
        "from statistics import mean, median, stdev\n",
        "\n",
        "average_arrival_interval = 5.6\n",
        "average_service_time = 5.0\n",
        "stdev_service_time = 0.5\n",
        "\n",
        "num_waiting = 0\n",
        "arrivals = []\n",
        "starts = []\n",
        "arrival = service_end = 0.0\n",
        "for i in range(20000):\n",
        "    if arrival <= service_end:\n",
        "        num_waiting += 1\n",
        "        arrival += expovariate(1.0 / average_arrival_interval)\n",
        "        arrivals.append(arrival)\n",
        "    else:\n",
        "        num_waiting -= 1\n",
        "        service_start = service_end if num_waiting else arrival\n",
        "        service_time = gauss(average_service_time, stdev_service_time)\n",
        "        service_end = service_start + service_time\n",
        "        starts.append(service_start)\n",
        "\n",
        "waits = [start - arrival for arrival, start in zip(arrivals, starts)]\n",
        "print(f'Mean wait: {mean(waits):.1f}.  Stdev wait: {stdev(waits):.1f}.')\n",
        "print(f'Median wait: {median(waits):.1f}.  Max wait: {max(waits):.1f}.')"
      ],
      "metadata": {
        "colab": {
          "base_uri": "https://localhost:8080/"
        },
        "id": "hhQ6rtw4zGFw",
        "outputId": "e6afee8b-aa1a-41f3-8689-4957c8268605"
      },
      "execution_count": 9,
      "outputs": [
        {
          "output_type": "stream",
          "name": "stdout",
          "text": [
            "Mean wait: 19.3.  Stdev wait: 20.6.\n",
            "Median wait: 12.6.  Max wait: 131.8.\n"
          ]
        }
      ]
    },
    {
      "cell_type": "code",
      "source": [],
      "metadata": {
        "id": "PulDQhRxzGC8"
      },
      "execution_count": null,
      "outputs": []
    },
    {
      "cell_type": "code",
      "source": [],
      "metadata": {
        "id": "almOoyuLzF_p"
      },
      "execution_count": null,
      "outputs": []
    }
  ]
}